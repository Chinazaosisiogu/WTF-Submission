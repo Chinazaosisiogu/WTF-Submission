{
 "cells": [
  {
   "cell_type": "markdown",
   "id": "5362ec77",
   "metadata": {},
   "source": [
    "# 20 Functions in Numpy"
   ]
  },
  {
   "cell_type": "code",
   "execution_count": 1,
   "id": "61d4b6cf",
   "metadata": {},
   "outputs": [],
   "source": [
    "import numpy as np"
   ]
  },
  {
   "cell_type": "markdown",
   "id": "7208dd54",
   "metadata": {},
   "source": [
    "# 1. Creating an Array"
   ]
  },
  {
   "cell_type": "code",
   "execution_count": 2,
   "id": "c6e966ba",
   "metadata": {
    "scrolled": true
   },
   "outputs": [
    {
     "data": {
      "text/plain": [
       "array([ 0, 15])"
      ]
     },
     "execution_count": 2,
     "metadata": {},
     "output_type": "execute_result"
    }
   ],
   "source": [
    "np.array([0,15])"
   ]
  },
  {
   "cell_type": "code",
   "execution_count": 3,
   "id": "db5579bf",
   "metadata": {},
   "outputs": [
    {
     "name": "stdout",
     "output_type": "stream",
     "text": [
      "[0 1 2 3]\n"
     ]
    }
   ],
   "source": [
    "x = np.array([0,1,2,3])\n",
    "print(x)"
   ]
  },
  {
   "cell_type": "code",
   "execution_count": 4,
   "id": "a84cce7b",
   "metadata": {},
   "outputs": [
    {
     "name": "stdout",
     "output_type": "stream",
     "text": [
      "[[0 1 2]\n",
      " [4 5 6]]\n"
     ]
    }
   ],
   "source": [
    "y = np.array([[0,1,2],[4,5,6]])\n",
    "print(y)"
   ]
  },
  {
   "cell_type": "code",
   "execution_count": 5,
   "id": "f28650b2",
   "metadata": {},
   "outputs": [
    {
     "name": "stdout",
     "output_type": "stream",
     "text": [
      "[[[0 1 2]\n",
      "  [3 4 5]\n",
      "  [6 7 8]]]\n"
     ]
    }
   ],
   "source": [
    "z = np.array([[[0,1,2],[3,4,5],[6,7,8]]])\n",
    "print(z)"
   ]
  },
  {
   "cell_type": "markdown",
   "id": "e2eb772d",
   "metadata": {},
   "source": [
    "# 2. Function for getting the dimension of arrays "
   ]
  },
  {
   "cell_type": "code",
   "execution_count": 6,
   "id": "c222fb49",
   "metadata": {},
   "outputs": [
    {
     "data": {
      "text/plain": [
       "1"
      ]
     },
     "execution_count": 6,
     "metadata": {},
     "output_type": "execute_result"
    }
   ],
   "source": [
    "x.ndim"
   ]
  },
  {
   "cell_type": "code",
   "execution_count": 7,
   "id": "c1d21d36",
   "metadata": {},
   "outputs": [
    {
     "data": {
      "text/plain": [
       "2"
      ]
     },
     "execution_count": 7,
     "metadata": {},
     "output_type": "execute_result"
    }
   ],
   "source": [
    "y.ndim"
   ]
  },
  {
   "cell_type": "code",
   "execution_count": 8,
   "id": "4bcee9e6",
   "metadata": {},
   "outputs": [
    {
     "data": {
      "text/plain": [
       "3"
      ]
     },
     "execution_count": 8,
     "metadata": {},
     "output_type": "execute_result"
    }
   ],
   "source": [
    "z.ndim"
   ]
  },
  {
   "cell_type": "markdown",
   "id": "ae3842d6",
   "metadata": {},
   "source": [
    "# 3. Shape of Array"
   ]
  },
  {
   "cell_type": "code",
   "execution_count": 9,
   "id": "5d3a2aee",
   "metadata": {},
   "outputs": [
    {
     "data": {
      "text/plain": [
       "(4,)"
      ]
     },
     "execution_count": 9,
     "metadata": {},
     "output_type": "execute_result"
    }
   ],
   "source": [
    "x.shape"
   ]
  },
  {
   "cell_type": "code",
   "execution_count": 10,
   "id": "5c33fda4",
   "metadata": {},
   "outputs": [
    {
     "data": {
      "text/plain": [
       "(2, 3)"
      ]
     },
     "execution_count": 10,
     "metadata": {},
     "output_type": "execute_result"
    }
   ],
   "source": [
    "y.shape"
   ]
  },
  {
   "cell_type": "code",
   "execution_count": 11,
   "id": "35d6b649",
   "metadata": {},
   "outputs": [
    {
     "data": {
      "text/plain": [
       "(1, 3, 3)"
      ]
     },
     "execution_count": 11,
     "metadata": {},
     "output_type": "execute_result"
    }
   ],
   "source": [
    "z.shape"
   ]
  },
  {
   "cell_type": "markdown",
   "id": "bd6d90c6",
   "metadata": {},
   "source": [
    "## 4. Size of the Arrays"
   ]
  },
  {
   "cell_type": "code",
   "execution_count": 12,
   "id": "6ee69d68",
   "metadata": {},
   "outputs": [
    {
     "data": {
      "text/plain": [
       "4"
      ]
     },
     "execution_count": 12,
     "metadata": {},
     "output_type": "execute_result"
    }
   ],
   "source": [
    "x.itemsize"
   ]
  },
  {
   "cell_type": "code",
   "execution_count": 13,
   "id": "790fadd5",
   "metadata": {},
   "outputs": [
    {
     "data": {
      "text/plain": [
       "4"
      ]
     },
     "execution_count": 13,
     "metadata": {},
     "output_type": "execute_result"
    }
   ],
   "source": [
    "y.itemsize"
   ]
  },
  {
   "cell_type": "code",
   "execution_count": 14,
   "id": "d2a3e5fb",
   "metadata": {},
   "outputs": [
    {
     "data": {
      "text/plain": [
       "4"
      ]
     },
     "execution_count": 14,
     "metadata": {},
     "output_type": "execute_result"
    }
   ],
   "source": [
    "z.itemsize"
   ]
  },
  {
   "cell_type": "markdown",
   "id": "4734dc3e",
   "metadata": {},
   "source": [
    "## 5. Getting Type of Array"
   ]
  },
  {
   "cell_type": "code",
   "execution_count": 15,
   "id": "af0269da",
   "metadata": {},
   "outputs": [
    {
     "data": {
      "text/plain": [
       "dtype('int32')"
      ]
     },
     "execution_count": 15,
     "metadata": {},
     "output_type": "execute_result"
    }
   ],
   "source": [
    "x.dtype"
   ]
  },
  {
   "cell_type": "code",
   "execution_count": 16,
   "id": "3d5d80bd",
   "metadata": {},
   "outputs": [
    {
     "data": {
      "text/plain": [
       "dtype('int32')"
      ]
     },
     "execution_count": 16,
     "metadata": {},
     "output_type": "execute_result"
    }
   ],
   "source": [
    "y.dtype"
   ]
  },
  {
   "cell_type": "code",
   "execution_count": 17,
   "id": "e1520d89",
   "metadata": {},
   "outputs": [
    {
     "data": {
      "text/plain": [
       "dtype('int32')"
      ]
     },
     "execution_count": 17,
     "metadata": {},
     "output_type": "execute_result"
    }
   ],
   "source": [
    "z.dtype"
   ]
  },
  {
   "cell_type": "markdown",
   "id": "414caf12",
   "metadata": {},
   "source": [
    "## 6. Creating all 1s Matrix"
   ]
  },
  {
   "cell_type": "code",
   "execution_count": 18,
   "id": "b30e3acc",
   "metadata": {},
   "outputs": [
    {
     "data": {
      "text/plain": [
       "array([[1., 1., 1., 1.],\n",
       "       [1., 1., 1., 1.],\n",
       "       [1., 1., 1., 1.],\n",
       "       [1., 1., 1., 1.]])"
      ]
     },
     "execution_count": 18,
     "metadata": {},
     "output_type": "execute_result"
    }
   ],
   "source": [
    "np.ones([4,4])"
   ]
  },
  {
   "cell_type": "markdown",
   "id": "c64a1f89",
   "metadata": {},
   "source": [
    " ## 7. Creating all Zero Matrix"
   ]
  },
  {
   "cell_type": "code",
   "execution_count": 19,
   "id": "86b90b1f",
   "metadata": {},
   "outputs": [
    {
     "data": {
      "text/plain": [
       "array([[0., 0., 0., 0., 0.],\n",
       "       [0., 0., 0., 0., 0.],\n",
       "       [0., 0., 0., 0., 0.],\n",
       "       [0., 0., 0., 0., 0.],\n",
       "       [0., 0., 0., 0., 0.]])"
      ]
     },
     "execution_count": 19,
     "metadata": {},
     "output_type": "execute_result"
    }
   ],
   "source": [
    "np.zeros([5,5])"
   ]
  },
  {
   "cell_type": "markdown",
   "id": "0933c7ea",
   "metadata": {},
   "source": [
    "## 8. Getting total size of Array"
   ]
  },
  {
   "cell_type": "code",
   "execution_count": 20,
   "id": "7ef1b38c",
   "metadata": {},
   "outputs": [
    {
     "data": {
      "text/plain": [
       "16"
      ]
     },
     "execution_count": 20,
     "metadata": {},
     "output_type": "execute_result"
    }
   ],
   "source": [
    "x.nbytes"
   ]
  },
  {
   "cell_type": "code",
   "execution_count": 21,
   "id": "b652d6c9",
   "metadata": {},
   "outputs": [
    {
     "data": {
      "text/plain": [
       "24"
      ]
     },
     "execution_count": 21,
     "metadata": {},
     "output_type": "execute_result"
    }
   ],
   "source": [
    "y.nbytes"
   ]
  },
  {
   "cell_type": "code",
   "execution_count": 22,
   "id": "6f048db5",
   "metadata": {},
   "outputs": [
    {
     "data": {
      "text/plain": [
       "36"
      ]
     },
     "execution_count": 22,
     "metadata": {},
     "output_type": "execute_result"
    }
   ],
   "source": [
    "z.nbytes"
   ]
  },
  {
   "cell_type": "markdown",
   "id": "88273419",
   "metadata": {},
   "source": [
    "### 9. Arrange: Returns evenly spaced values within a given interval"
   ]
  },
  {
   "cell_type": "code",
   "execution_count": 23,
   "id": "d4ed3f0a",
   "metadata": {},
   "outputs": [
    {
     "data": {
      "text/plain": [
       "array([ 0,  1,  2,  3,  4,  5,  6,  7,  8,  9, 10, 11, 12, 13, 14, 15, 16,\n",
       "       17, 18, 19, 20, 21, 22, 23, 24, 25])"
      ]
     },
     "execution_count": 23,
     "metadata": {},
     "output_type": "execute_result"
    }
   ],
   "source": [
    "a = np.arange(0,26)\n",
    "a"
   ]
  },
  {
   "cell_type": "code",
   "execution_count": 24,
   "id": "3530e9c0",
   "metadata": {},
   "outputs": [
    {
     "data": {
      "text/plain": [
       "array([ 0,  5, 10, 15, 20, 25])"
      ]
     },
     "execution_count": 24,
     "metadata": {},
     "output_type": "execute_result"
    }
   ],
   "source": [
    "b = np.arange(0,26,5)\n",
    "b"
   ]
  },
  {
   "cell_type": "markdown",
   "id": "28751517",
   "metadata": {},
   "source": [
    "## 10. Random Decimal Numbers"
   ]
  },
  {
   "cell_type": "code",
   "execution_count": 25,
   "id": "fbbfcdb1",
   "metadata": {},
   "outputs": [
    {
     "data": {
      "text/plain": [
       "array([[0.24553316, 0.31002159, 0.05650948],\n",
       "       [0.52433101, 0.74875988, 0.21812621],\n",
       "       [0.85672684, 0.49856949, 0.16357498],\n",
       "       [0.45411425, 0.77906222, 0.1194012 ]])"
      ]
     },
     "execution_count": 25,
     "metadata": {},
     "output_type": "execute_result"
    }
   ],
   "source": [
    "np.random.rand(4,3)"
   ]
  },
  {
   "cell_type": "markdown",
   "id": "00459959",
   "metadata": {},
   "source": [
    "## 11. Random Interger Values"
   ]
  },
  {
   "cell_type": "code",
   "execution_count": 26,
   "id": "276a4839",
   "metadata": {
    "scrolled": false
   },
   "outputs": [
    {
     "data": {
      "text/plain": [
       "array([[4, 3, 3],\n",
       "       [4, 7, 6],\n",
       "       [4, 0, 8]])"
      ]
     },
     "execution_count": 26,
     "metadata": {},
     "output_type": "execute_result"
    }
   ],
   "source": [
    "w = np.random.randint(-1,9, size =(3,3))\n",
    "w"
   ]
  },
  {
   "cell_type": "code",
   "execution_count": 27,
   "id": "572dccd6",
   "metadata": {},
   "outputs": [
    {
     "data": {
      "text/plain": [
       "(3, 3)"
      ]
     },
     "execution_count": 27,
     "metadata": {},
     "output_type": "execute_result"
    }
   ],
   "source": [
    "w.shape"
   ]
  },
  {
   "cell_type": "markdown",
   "id": "e7918071",
   "metadata": {},
   "source": [
    "### 12. Identity matrix"
   ]
  },
  {
   "cell_type": "code",
   "execution_count": 28,
   "id": "b63e66e5",
   "metadata": {},
   "outputs": [
    {
     "data": {
      "text/plain": [
       "array([[1., 0., 0., 0.],\n",
       "       [0., 1., 0., 0.],\n",
       "       [0., 0., 1., 0.],\n",
       "       [0., 0., 0., 1.]])"
      ]
     },
     "execution_count": 28,
     "metadata": {},
     "output_type": "execute_result"
    }
   ],
   "source": [
    "np.identity(4)"
   ]
  },
  {
   "cell_type": "markdown",
   "id": "7b84a374",
   "metadata": {},
   "source": [
    "## 13. Repeating array"
   ]
  },
  {
   "cell_type": "code",
   "execution_count": 29,
   "id": "f551f4c6",
   "metadata": {},
   "outputs": [
    {
     "name": "stdout",
     "output_type": "stream",
     "text": [
      "[[1 2 4]\n",
      " [1 2 4]\n",
      " [1 2 4]]\n"
     ]
    }
   ],
   "source": [
    "arr = np.array([[1,2,4]])\n",
    "A1 = np.repeat(arr,3, axis = 0)\n",
    "print(A1)"
   ]
  },
  {
   "cell_type": "markdown",
   "id": "cefb48c5",
   "metadata": {},
   "source": [
    "## 14.Linspace: Return evenly spaced numbers over a specified interval."
   ]
  },
  {
   "cell_type": "code",
   "execution_count": 30,
   "id": "8ece1b45",
   "metadata": {},
   "outputs": [
    {
     "data": {
      "text/plain": [
       "array([ 0.,  5., 10., 15., 20.])"
      ]
     },
     "execution_count": 30,
     "metadata": {},
     "output_type": "execute_result"
    }
   ],
   "source": [
    "np.linspace(0,20,5)"
   ]
  },
  {
   "cell_type": "code",
   "execution_count": 31,
   "id": "3ea7b371",
   "metadata": {},
   "outputs": [
    {
     "data": {
      "text/plain": [
       "array([ 0., 12., 24.])"
      ]
     },
     "execution_count": 31,
     "metadata": {},
     "output_type": "execute_result"
    }
   ],
   "source": [
    "np.linspace(0,24,3)"
   ]
  },
  {
   "cell_type": "markdown",
   "id": "41323c20",
   "metadata": {},
   "source": [
    "## 15 Eye: Another method of printing identity matrix"
   ]
  },
  {
   "cell_type": "code",
   "execution_count": 32,
   "id": "1258f181",
   "metadata": {},
   "outputs": [
    {
     "data": {
      "text/plain": [
       "array([[1., 0., 0., 0., 0., 0., 0., 0.],\n",
       "       [0., 1., 0., 0., 0., 0., 0., 0.],\n",
       "       [0., 0., 1., 0., 0., 0., 0., 0.],\n",
       "       [0., 0., 0., 1., 0., 0., 0., 0.],\n",
       "       [0., 0., 0., 0., 1., 0., 0., 0.],\n",
       "       [0., 0., 0., 0., 0., 1., 0., 0.],\n",
       "       [0., 0., 0., 0., 0., 0., 1., 0.],\n",
       "       [0., 0., 0., 0., 0., 0., 0., 1.]])"
      ]
     },
     "execution_count": 32,
     "metadata": {},
     "output_type": "execute_result"
    }
   ],
   "source": [
    "np.eye(8)"
   ]
  },
  {
   "cell_type": "code",
   "execution_count": 33,
   "id": "6e65fe71",
   "metadata": {},
   "outputs": [
    {
     "data": {
      "text/plain": [
       "array([[1., 0., 0., 0.],\n",
       "       [0., 1., 0., 0.],\n",
       "       [0., 0., 1., 0.],\n",
       "       [0., 0., 0., 1.]])"
      ]
     },
     "execution_count": 33,
     "metadata": {},
     "output_type": "execute_result"
    }
   ],
   "source": [
    "np.eye(4,4)"
   ]
  },
  {
   "cell_type": "code",
   "execution_count": 34,
   "id": "8aa71218",
   "metadata": {},
   "outputs": [
    {
     "data": {
      "text/plain": [
       "array([[0., 1., 0., 0., 0., 0.],\n",
       "       [0., 0., 1., 0., 0., 0.],\n",
       "       [0., 0., 0., 1., 0., 0.],\n",
       "       [0., 0., 0., 0., 1., 0.],\n",
       "       [0., 0., 0., 0., 0., 1.],\n",
       "       [0., 0., 0., 0., 0., 0.]])"
      ]
     },
     "execution_count": 34,
     "metadata": {},
     "output_type": "execute_result"
    }
   ],
   "source": [
    "np.eye(6,6,1)"
   ]
  },
  {
   "cell_type": "markdown",
   "id": "33bf2e90",
   "metadata": {},
   "source": [
    "## 16 Minimum Value"
   ]
  },
  {
   "cell_type": "code",
   "execution_count": 35,
   "id": "e68322b1",
   "metadata": {},
   "outputs": [
    {
     "data": {
      "text/plain": [
       "0"
      ]
     },
     "execution_count": 35,
     "metadata": {},
     "output_type": "execute_result"
    }
   ],
   "source": [
    "y.min()"
   ]
  },
  {
   "cell_type": "markdown",
   "id": "0502ba30",
   "metadata": {},
   "source": [
    "## 17 Maximum Value"
   ]
  },
  {
   "cell_type": "code",
   "execution_count": 36,
   "id": "846aac38",
   "metadata": {},
   "outputs": [
    {
     "data": {
      "text/plain": [
       "8"
      ]
     },
     "execution_count": 36,
     "metadata": {},
     "output_type": "execute_result"
    }
   ],
   "source": [
    "z.max()"
   ]
  },
  {
   "cell_type": "markdown",
   "id": "896dc86b",
   "metadata": {},
   "source": [
    "## 18 Copying arrays"
   ]
  },
  {
   "cell_type": "code",
   "execution_count": 37,
   "id": "25507538",
   "metadata": {},
   "outputs": [
    {
     "name": "stdout",
     "output_type": "stream",
     "text": [
      "[1 2 3 4 5 6]\n"
     ]
    }
   ],
   "source": [
    "u = np.array([1,2,3,4,5,6])\n",
    "v = u\n",
    "print(v)"
   ]
  },
  {
   "cell_type": "markdown",
   "id": "74ee8c22",
   "metadata": {},
   "source": [
    "## 19. Appending Arrays"
   ]
  },
  {
   "cell_type": "code",
   "execution_count": 38,
   "id": "a9a86bbb",
   "metadata": {},
   "outputs": [
    {
     "name": "stdout",
     "output_type": "stream",
     "text": [
      "Original array\n",
      "[0 1 2 3 4 5 6 7]\n",
      "\n",
      "\n",
      "Array with appended values at the end\n"
     ]
    }
   ],
   "source": [
    "print(\"Original array\")\n",
    "numbers = np.arange(8)\n",
    "print(numbers)\n",
    "print(\"\\n\")\n",
    "print(\"Array with appended values at the end\")"
   ]
  },
  {
   "cell_type": "code",
   "execution_count": 39,
   "id": "7da18cff",
   "metadata": {},
   "outputs": [
    {
     "name": "stdout",
     "output_type": "stream",
     "text": [
      "Original array\n",
      "[[ 2  3  4]\n",
      " [ 5  6  7]\n",
      " [ 8  9 10]]\n",
      "\n",
      "\n",
      "Arrays with appended values at the end\n",
      "[[ 2  3  4]\n",
      " [ 5  6  7]\n",
      " [ 8  9 10]\n",
      " [12 13 14]]\n"
     ]
    }
   ],
   "source": [
    "print(\"Original array\")\n",
    "q = np.arange(2,11).reshape (3,3)\n",
    "print(q)\n",
    "print(\"\\n\")\n",
    "print(\"Arrays with appended values at the end\")\n",
    "print(np.append(q, [[12,13,14]], axis = 0))"
   ]
  },
  {
   "cell_type": "markdown",
   "id": "d9652564",
   "metadata": {},
   "source": [
    "### 20 Printing all boarders 1s and 0s inside"
   ]
  },
  {
   "cell_type": "code",
   "execution_count": 40,
   "id": "f10c3e5a",
   "metadata": {},
   "outputs": [
    {
     "name": "stdout",
     "output_type": "stream",
     "text": [
      "Original array\n",
      "[[1. 1. 1. 1. 1. 1.]\n",
      " [1. 1. 1. 1. 1. 1.]\n",
      " [1. 1. 1. 1. 1. 1.]\n",
      " [1. 1. 1. 1. 1. 1.]\n",
      " [1. 1. 1. 1. 1. 1.]\n",
      " [1. 1. 1. 1. 1. 1.]]\n",
      "\n",
      "\n",
      "Arrays with one on the boarder and zeros inside\n",
      "[[1. 1. 1. 1. 1. 1.]\n",
      " [1. 0. 0. 0. 0. 1.]\n",
      " [1. 0. 0. 0. 0. 1.]\n",
      " [1. 0. 0. 0. 0. 1.]\n",
      " [1. 0. 0. 0. 0. 1.]\n",
      " [1. 1. 1. 1. 1. 1.]]\n"
     ]
    }
   ],
   "source": [
    "print(\"Original array\")\n",
    "array_2d = np.ones((6,6))\n",
    "print(array_2d)\n",
    "print(\"\\n\")\n",
    "print(\"Arrays with one on the boarder and zeros inside\")\n",
    "array_2d[1:-1,1:-1] = 0\n",
    "print(array_2d)"
   ]
  },
  {
   "cell_type": "markdown",
   "id": "13c52280",
   "metadata": {},
   "source": [
    "# 20 FUNCTIONS IN PANDAS"
   ]
  },
  {
   "cell_type": "code",
   "execution_count": 41,
   "id": "780de0cc",
   "metadata": {},
   "outputs": [],
   "source": [
    "import pandas as pd"
   ]
  },
  {
   "cell_type": "markdown",
   "id": "8e43142d",
   "metadata": {},
   "source": [
    "#### 1. Creating a table from the scratch  using dictionary"
   ]
  },
  {
   "cell_type": "code",
   "execution_count": 42,
   "id": "e5e1f422",
   "metadata": {},
   "outputs": [],
   "source": [
    "Table = {\"Names\": [\"Chinaza\", \"Happiness\", \"Terry\", \"Vazir\", \"Malakh\"],\n",
    "        \"Age\":[21, 24, 30, 10, 8],\n",
    "        \"States\": [\"Abia\", \"Lagos\", \"Nasarawa\", \"Abuja\", \"Rivers\"]}"
   ]
  },
  {
   "cell_type": "code",
   "execution_count": 43,
   "id": "33e85bfc",
   "metadata": {},
   "outputs": [
    {
     "data": {
      "text/html": [
       "<div>\n",
       "<style scoped>\n",
       "    .dataframe tbody tr th:only-of-type {\n",
       "        vertical-align: middle;\n",
       "    }\n",
       "\n",
       "    .dataframe tbody tr th {\n",
       "        vertical-align: top;\n",
       "    }\n",
       "\n",
       "    .dataframe thead th {\n",
       "        text-align: right;\n",
       "    }\n",
       "</style>\n",
       "<table border=\"1\" class=\"dataframe\">\n",
       "  <thead>\n",
       "    <tr style=\"text-align: right;\">\n",
       "      <th></th>\n",
       "      <th>Names</th>\n",
       "      <th>Age</th>\n",
       "      <th>States</th>\n",
       "    </tr>\n",
       "  </thead>\n",
       "  <tbody>\n",
       "    <tr>\n",
       "      <th>0</th>\n",
       "      <td>Chinaza</td>\n",
       "      <td>21</td>\n",
       "      <td>Abia</td>\n",
       "    </tr>\n",
       "    <tr>\n",
       "      <th>1</th>\n",
       "      <td>Happiness</td>\n",
       "      <td>24</td>\n",
       "      <td>Lagos</td>\n",
       "    </tr>\n",
       "    <tr>\n",
       "      <th>2</th>\n",
       "      <td>Terry</td>\n",
       "      <td>30</td>\n",
       "      <td>Nasarawa</td>\n",
       "    </tr>\n",
       "    <tr>\n",
       "      <th>3</th>\n",
       "      <td>Vazir</td>\n",
       "      <td>10</td>\n",
       "      <td>Abuja</td>\n",
       "    </tr>\n",
       "    <tr>\n",
       "      <th>4</th>\n",
       "      <td>Malakh</td>\n",
       "      <td>8</td>\n",
       "      <td>Rivers</td>\n",
       "    </tr>\n",
       "  </tbody>\n",
       "</table>\n",
       "</div>"
      ],
      "text/plain": [
       "       Names  Age    States\n",
       "0    Chinaza   21      Abia\n",
       "1  Happiness   24     Lagos\n",
       "2      Terry   30  Nasarawa\n",
       "3      Vazir   10     Abuja\n",
       "4     Malakh    8    Rivers"
      ]
     },
     "execution_count": 43,
     "metadata": {},
     "output_type": "execute_result"
    }
   ],
   "source": [
    "data_frame = pd.DataFrame(Table)\n",
    "data_frame"
   ]
  },
  {
   "cell_type": "markdown",
   "id": "a448ee1f",
   "metadata": {},
   "source": [
    "### 2. Mean: Return the mean of the values over the requested axis."
   ]
  },
  {
   "cell_type": "code",
   "execution_count": 44,
   "id": "5d4f7ef8",
   "metadata": {},
   "outputs": [
    {
     "ename": "NameError",
     "evalue": "name 'df' is not defined",
     "output_type": "error",
     "traceback": [
      "\u001b[1;31m---------------------------------------------------------------------------\u001b[0m",
      "\u001b[1;31mNameError\u001b[0m                                 Traceback (most recent call last)",
      "Input \u001b[1;32mIn [44]\u001b[0m, in \u001b[0;36m<cell line: 1>\u001b[1;34m()\u001b[0m\n\u001b[1;32m----> 1\u001b[0m \u001b[43mdf\u001b[49m[\u001b[38;5;124m\"\u001b[39m\u001b[38;5;124mAge\u001b[39m\u001b[38;5;124m\"\u001b[39m]\u001b[38;5;241m.\u001b[39mmean()\n",
      "\u001b[1;31mNameError\u001b[0m: name 'df' is not defined"
     ]
    }
   ],
   "source": [
    "df[\"Age\"].mean()"
   ]
  },
  {
   "cell_type": "markdown",
   "id": "4ad9d967",
   "metadata": {},
   "source": [
    "### 3. Sum: Return the sum of the values over the requested axis.\n"
   ]
  },
  {
   "cell_type": "code",
   "execution_count": null,
   "id": "6294fc69",
   "metadata": {},
   "outputs": [],
   "source": [
    "df[\"Age\"].sum ()"
   ]
  },
  {
   "cell_type": "code",
   "execution_count": null,
   "id": "00749251",
   "metadata": {
    "scrolled": true
   },
   "outputs": [],
   "source": [
    "df[\"Age\"][:2].sum()"
   ]
  },
  {
   "cell_type": "markdown",
   "id": "476613f5",
   "metadata": {},
   "source": [
    "### 4. Max: Return the maximum of the values over the requested axis."
   ]
  },
  {
   "cell_type": "code",
   "execution_count": null,
   "id": "157e07b1",
   "metadata": {},
   "outputs": [],
   "source": [
    "df[\"Age\"].max()"
   ]
  },
  {
   "cell_type": "markdown",
   "id": "00b3825b",
   "metadata": {},
   "source": [
    "### 5. Min: Return the minimum of the values over the requested axis.\n"
   ]
  },
  {
   "cell_type": "code",
   "execution_count": null,
   "id": "662f1e14",
   "metadata": {},
   "outputs": [],
   "source": [
    "df[\"Age\"].min()"
   ]
  },
  {
   "cell_type": "markdown",
   "id": "08bb21c9",
   "metadata": {},
   "source": [
    "### 6. Count: Count non-NA cells for each column or row."
   ]
  },
  {
   "cell_type": "code",
   "execution_count": null,
   "id": "8486e806",
   "metadata": {},
   "outputs": [],
   "source": [
    "df[\"Age\"].count()"
   ]
  },
  {
   "cell_type": "markdown",
   "id": "e979015a",
   "metadata": {},
   "source": [
    "### 7. df.columns: Used to find the columns on the table"
   ]
  },
  {
   "cell_type": "code",
   "execution_count": null,
   "id": "2f8a8796",
   "metadata": {},
   "outputs": [],
   "source": [
    "df.columns"
   ]
  },
  {
   "cell_type": "markdown",
   "id": "96fc9f15",
   "metadata": {},
   "source": [
    "### 8. Loc: Access a group of rows and columns by label(s) or a boolean array."
   ]
  },
  {
   "cell_type": "code",
   "execution_count": null,
   "id": "12d6cb8a",
   "metadata": {},
   "outputs": [],
   "source": [
    "df.loc[1]"
   ]
  },
  {
   "cell_type": "code",
   "execution_count": null,
   "id": "cf7e89fe",
   "metadata": {},
   "outputs": [],
   "source": [
    "df.loc[0:3, \"Names\"]"
   ]
  },
  {
   "cell_type": "markdown",
   "id": "68bd93eb",
   "metadata": {},
   "source": [
    "### 9. iloc: Purely integer-location based indexing for selection by position.\n"
   ]
  },
  {
   "cell_type": "code",
   "execution_count": null,
   "id": "8f440eae",
   "metadata": {},
   "outputs": [],
   "source": [
    "df.iloc[0:2]"
   ]
  },
  {
   "cell_type": "markdown",
   "id": "2482afb8",
   "metadata": {},
   "source": [
    "### 10. Where: Replace values where the condition is False."
   ]
  },
  {
   "cell_type": "code",
   "execution_count": null,
   "id": "d59cc58a",
   "metadata": {},
   "outputs": [],
   "source": [
    "# method chaining (Equivalance of sumif)\n",
    "df[\"Age\"].where(df[\"Age\"]>20).sum()"
   ]
  },
  {
   "cell_type": "markdown",
   "id": "060d41cf",
   "metadata": {},
   "source": [
    "#### 11. Value_counts: Return a Series containing counts of unique rows in the DataFrame.\n"
   ]
  },
  {
   "cell_type": "code",
   "execution_count": null,
   "id": "08663dd8",
   "metadata": {},
   "outputs": [],
   "source": [
    "# method chain (Equivalance of countif)\n",
    "df[\"Age\"].where(df[\"Age\"]>20).value_counts()"
   ]
  },
  {
   "cell_type": "code",
   "execution_count": null,
   "id": "e17e51b0",
   "metadata": {},
   "outputs": [],
   "source": [
    "df[\"Age\"].where(df[\"Age\"]<20).value_counts().sum()"
   ]
  },
  {
   "cell_type": "markdown",
   "id": "9999df1d",
   "metadata": {},
   "source": [
    "### 12. Count: Count non-NA cells for each column or row."
   ]
  },
  {
   "cell_type": "code",
   "execution_count": null,
   "id": "59d7c707",
   "metadata": {},
   "outputs": [],
   "source": [
    "df[\"Age\"].where(df[\"Age\"]<20).count()"
   ]
  },
  {
   "cell_type": "markdown",
   "id": "a3cd67cc",
   "metadata": {},
   "source": [
    "### 13. pd.read: Read an Excel file into a pandas DataFrame."
   ]
  },
  {
   "cell_type": "code",
   "execution_count": null,
   "id": "3b73c2da",
   "metadata": {},
   "outputs": [],
   "source": [
    "df = pd.read_csv('googleplaystore.csv')\n",
    "df"
   ]
  },
  {
   "cell_type": "markdown",
   "id": "8a4a762a",
   "metadata": {},
   "source": [
    "### 14. head: This function returns the first `n` rows for the object based on position. "
   ]
  },
  {
   "cell_type": "code",
   "execution_count": null,
   "id": "8ee3ec4a",
   "metadata": {},
   "outputs": [],
   "source": [
    "df.head()"
   ]
  },
  {
   "cell_type": "markdown",
   "id": "b58e40bb",
   "metadata": {},
   "source": [
    "### 15. info: Print a concise summary of a DataFrame."
   ]
  },
  {
   "cell_type": "code",
   "execution_count": null,
   "id": "dfec50ff",
   "metadata": {},
   "outputs": [],
   "source": [
    "df.info()"
   ]
  },
  {
   "cell_type": "markdown",
   "id": "3cc6a4f3",
   "metadata": {},
   "source": [
    "### 16. Shape: Return a tuple representing the dimensionality of the DataFrame."
   ]
  },
  {
   "cell_type": "code",
   "execution_count": null,
   "id": "80878fc2",
   "metadata": {},
   "outputs": [],
   "source": [
    "df.shape"
   ]
  },
  {
   "cell_type": "markdown",
   "id": "eba3f4d1",
   "metadata": {},
   "source": [
    "### 17. Size: Return an int representing the number of elements in this object."
   ]
  },
  {
   "cell_type": "code",
   "execution_count": null,
   "id": "969ba865",
   "metadata": {},
   "outputs": [],
   "source": [
    "df.size"
   ]
  },
  {
   "cell_type": "markdown",
   "id": "2c7fe40a",
   "metadata": {},
   "source": [
    "### 18. Sample: Return a random sample of items from an axis of object."
   ]
  },
  {
   "cell_type": "code",
   "execution_count": null,
   "id": "8849ab8b",
   "metadata": {},
   "outputs": [],
   "source": [
    "df.sample(n=5)"
   ]
  },
  {
   "cell_type": "markdown",
   "id": "f749b90b",
   "metadata": {},
   "source": [
    "### 19. Describe: Generate descriptive statistics.Descriptive statistics include those that summarize the central\n"
   ]
  },
  {
   "cell_type": "code",
   "execution_count": null,
   "id": "fa4125bc",
   "metadata": {},
   "outputs": [],
   "source": [
    "df.describe()"
   ]
  },
  {
   "cell_type": "code",
   "execution_count": null,
   "id": "2396f9fb",
   "metadata": {},
   "outputs": [],
   "source": [
    "# For Transposing\n",
    "df.describe().T"
   ]
  },
  {
   "cell_type": "markdown",
   "id": "90f3755c",
   "metadata": {},
   "source": [
    "### 20. nunique: Count number of distinct elements in specified axis."
   ]
  },
  {
   "cell_type": "code",
   "execution_count": null,
   "id": "b7f29e40",
   "metadata": {},
   "outputs": [],
   "source": [
    "df.nunique()"
   ]
  },
  {
   "cell_type": "code",
   "execution_count": null,
   "id": "a3d20ace",
   "metadata": {},
   "outputs": [],
   "source": []
  }
 ],
 "metadata": {
  "kernelspec": {
   "display_name": "Python 3 (ipykernel)",
   "language": "python",
   "name": "python3"
  },
  "language_info": {
   "codemirror_mode": {
    "name": "ipython",
    "version": 3
   },
   "file_extension": ".py",
   "mimetype": "text/x-python",
   "name": "python",
   "nbconvert_exporter": "python",
   "pygments_lexer": "ipython3",
   "version": "3.9.12"
  }
 },
 "nbformat": 4,
 "nbformat_minor": 5
}
